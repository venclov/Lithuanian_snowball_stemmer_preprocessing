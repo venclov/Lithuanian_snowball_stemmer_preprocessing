{
  "nbformat": 4,
  "nbformat_minor": 0,
  "metadata": {
    "colab": {
      "name": "LDA.ipynb",
      "version": "0.3.2",
      "views": {},
      "default_view": {},
      "provenance": []
    },
    "kernelspec": {
      "name": "python3",
      "display_name": "Python 3"
    }
  },
  "cells": [
    {
      "metadata": {
        "id": "qgz0GKZN9ekC",
        "colab_type": "code",
        "colab": {
          "autoexec": {
            "startup": false,
            "wait_interval": 0
          },
          "base_uri": "https://localhost:8080/",
          "height": 989
        },
        "outputId": "d1a4d4c2-73bb-4cc1-910b-f803c62cf16d",
        "executionInfo": {
          "status": "ok",
          "timestamp": 1533537983125,
          "user_tz": -180,
          "elapsed": 11534,
          "user": {
            "displayName": "Paulius Venclovas",
            "photoUrl": "https://lh3.googleusercontent.com/a/default-user=s128",
            "userId": "107160707492161856569"
          }
        }
      },
      "cell_type": "code",
      "source": [
        "!pip install pandas\n",
        "!pip install gensim\n",
        "!pip install pyLDAvis\n",
        "!pip install PyMySQL\n",
        "!pip install tqdm"
      ],
      "execution_count": 6,
      "outputs": [
        {
          "output_type": "stream",
          "text": [
            "Requirement already satisfied: pandas in /usr/local/lib/python3.6/dist-packages (0.22.0)\r\n",
            "Requirement already satisfied: pytz>=2011k in /usr/local/lib/python3.6/dist-packages (from pandas) (2018.5)\r\n",
            "Requirement already satisfied: python-dateutil>=2 in /usr/local/lib/python3.6/dist-packages (from pandas) (2.5.3)\r\n",
            "Requirement already satisfied: numpy>=1.9.0 in /usr/local/lib/python3.6/dist-packages (from pandas) (1.14.5)\r\n",
            "Requirement already satisfied: six>=1.5 in /usr/local/lib/python3.6/dist-packages (from python-dateutil>=2->pandas) (1.11.0)\n",
            "Requirement already satisfied: gensim in /usr/local/lib/python3.6/dist-packages (3.5.0)\n",
            "Requirement already satisfied: numpy>=1.11.3 in /usr/local/lib/python3.6/dist-packages (from gensim) (1.14.5)\n",
            "Requirement already satisfied: smart-open>=1.2.1 in /usr/local/lib/python3.6/dist-packages (from gensim) (1.6.0)\n",
            "Requirement already satisfied: scipy>=0.18.1 in /usr/local/lib/python3.6/dist-packages (from gensim) (0.19.1)\n",
            "Requirement already satisfied: six>=1.5.0 in /usr/local/lib/python3.6/dist-packages (from gensim) (1.11.0)\n",
            "Requirement already satisfied: requests in /usr/local/lib/python3.6/dist-packages (from smart-open>=1.2.1->gensim) (2.18.4)\n",
            "Requirement already satisfied: boto3 in /usr/local/lib/python3.6/dist-packages (from smart-open>=1.2.1->gensim) (1.7.70)\n",
            "Requirement already satisfied: boto>=2.32 in /usr/local/lib/python3.6/dist-packages (from smart-open>=1.2.1->gensim) (2.49.0)\n",
            "Requirement already satisfied: bz2file in /usr/local/lib/python3.6/dist-packages (from smart-open>=1.2.1->gensim) (0.98)\n",
            "Requirement already satisfied: certifi>=2017.4.17 in /usr/local/lib/python3.6/dist-packages (from requests->smart-open>=1.2.1->gensim) (2018.4.16)\n",
            "Requirement already satisfied: urllib3<1.23,>=1.21.1 in /usr/local/lib/python3.6/dist-packages (from requests->smart-open>=1.2.1->gensim) (1.22)\n",
            "Requirement already satisfied: chardet<3.1.0,>=3.0.2 in /usr/local/lib/python3.6/dist-packages (from requests->smart-open>=1.2.1->gensim) (3.0.4)\n",
            "Requirement already satisfied: idna<2.7,>=2.5 in /usr/local/lib/python3.6/dist-packages (from requests->smart-open>=1.2.1->gensim) (2.6)\n",
            "Requirement already satisfied: s3transfer<0.2.0,>=0.1.10 in /usr/local/lib/python3.6/dist-packages (from boto3->smart-open>=1.2.1->gensim) (0.1.13)\n",
            "Requirement already satisfied: botocore<1.11.0,>=1.10.70 in /usr/local/lib/python3.6/dist-packages (from boto3->smart-open>=1.2.1->gensim) (1.10.70)\n",
            "Requirement already satisfied: jmespath<1.0.0,>=0.7.1 in /usr/local/lib/python3.6/dist-packages (from boto3->smart-open>=1.2.1->gensim) (0.9.3)\n",
            "Requirement already satisfied: docutils>=0.10 in /usr/local/lib/python3.6/dist-packages (from botocore<1.11.0,>=1.10.70->boto3->smart-open>=1.2.1->gensim) (0.14)\n",
            "Requirement already satisfied: python-dateutil<3.0.0,>=2.1; python_version >= \"2.7\" in /usr/local/lib/python3.6/dist-packages (from botocore<1.11.0,>=1.10.70->boto3->smart-open>=1.2.1->gensim) (2.5.3)\n",
            "Requirement already satisfied: pyLDAvis in /usr/local/lib/python3.6/dist-packages (2.1.2)\n",
            "Requirement already satisfied: pytest in /usr/local/lib/python3.6/dist-packages (from pyLDAvis) (3.7.1)\n",
            "Requirement already satisfied: scipy>=0.18.0 in /usr/local/lib/python3.6/dist-packages (from pyLDAvis) (0.19.1)\n",
            "Requirement already satisfied: numexpr in /usr/local/lib/python3.6/dist-packages (from pyLDAvis) (2.6.6)\n",
            "Requirement already satisfied: pandas>=0.17.0 in /usr/local/lib/python3.6/dist-packages (from pyLDAvis) (0.22.0)\n",
            "Requirement already satisfied: wheel>=0.23.0 in /usr/local/lib/python3.6/dist-packages (from pyLDAvis) (0.31.1)\n",
            "Requirement already satisfied: funcy in /usr/local/lib/python3.6/dist-packages (from pyLDAvis) (1.10.3)\n",
            "Requirement already satisfied: jinja2>=2.7.2 in /usr/local/lib/python3.6/dist-packages (from pyLDAvis) (2.10)\n",
            "Requirement already satisfied: future in /usr/local/lib/python3.6/dist-packages (from pyLDAvis) (0.16.0)\n",
            "Requirement already satisfied: joblib>=0.8.4 in /usr/local/lib/python3.6/dist-packages (from pyLDAvis) (0.12.2)\n",
            "Requirement already satisfied: numpy>=1.9.2 in /usr/local/lib/python3.6/dist-packages (from pyLDAvis) (1.14.5)\n",
            "Requirement already satisfied: atomicwrites>=1.0 in /usr/local/lib/python3.6/dist-packages (from pytest->pyLDAvis) (1.1.5)\n",
            "Requirement already satisfied: attrs>=17.4.0 in /usr/local/lib/python3.6/dist-packages (from pytest->pyLDAvis) (18.1.0)\n",
            "Requirement already satisfied: setuptools in /usr/local/lib/python3.6/dist-packages (from pytest->pyLDAvis) (39.1.0)\n",
            "Requirement already satisfied: six>=1.10.0 in /usr/local/lib/python3.6/dist-packages (from pytest->pyLDAvis) (1.11.0)\n",
            "Requirement already satisfied: more-itertools>=4.0.0 in /usr/local/lib/python3.6/dist-packages (from pytest->pyLDAvis) (4.3.0)\n",
            "Requirement already satisfied: pluggy>=0.7 in /usr/local/lib/python3.6/dist-packages (from pytest->pyLDAvis) (0.7.1)\n",
            "Requirement already satisfied: py>=1.5.0 in /usr/local/lib/python3.6/dist-packages (from pytest->pyLDAvis) (1.5.4)\n",
            "Requirement already satisfied: python-dateutil>=2 in /usr/local/lib/python3.6/dist-packages (from pandas>=0.17.0->pyLDAvis) (2.5.3)\n",
            "Requirement already satisfied: pytz>=2011k in /usr/local/lib/python3.6/dist-packages (from pandas>=0.17.0->pyLDAvis) (2018.5)\n",
            "Requirement already satisfied: MarkupSafe>=0.23 in /usr/local/lib/python3.6/dist-packages (from jinja2>=2.7.2->pyLDAvis) (1.0)\n",
            "Requirement already satisfied: PyMySQL in /usr/local/lib/python3.6/dist-packages (0.9.2)\n",
            "Requirement already satisfied: cryptography in /usr/local/lib/python3.6/dist-packages (from PyMySQL) (2.3)\n",
            "Requirement already satisfied: cffi!=1.11.3,>=1.7 in /usr/local/lib/python3.6/dist-packages (from cryptography->PyMySQL) (1.11.5)\n",
            "Requirement already satisfied: asn1crypto>=0.21.0 in /usr/local/lib/python3.6/dist-packages (from cryptography->PyMySQL) (0.24.0)\n",
            "Requirement already satisfied: idna>=2.1 in /usr/local/lib/python3.6/dist-packages (from cryptography->PyMySQL) (2.6)\n",
            "Requirement already satisfied: six>=1.4.1 in /usr/local/lib/python3.6/dist-packages (from cryptography->PyMySQL) (1.11.0)\n",
            "Requirement already satisfied: pycparser in /usr/local/lib/python3.6/dist-packages (from cffi!=1.11.3,>=1.7->cryptography->PyMySQL) (2.18)\n",
            "Collecting tqdm\n",
            "\u001b[?25l  Downloading https://files.pythonhosted.org/packages/7d/e6/19dfaff08fcbee7f3453e5b537e65a8364f1945f921a36d08be1e2ff3475/tqdm-4.24.0-py2.py3-none-any.whl (43kB)\n",
            "\u001b[K    100% |████████████████████████████████| 51kB 3.5MB/s \n",
            "\u001b[?25hInstalling collected packages: tqdm\n",
            "Successfully installed tqdm-4.24.0\n"
          ],
          "name": "stdout"
        }
      ]
    },
    {
      "metadata": {
        "id": "5klgRwdq9zVl",
        "colab_type": "code",
        "colab": {
          "autoexec": {
            "startup": false,
            "wait_interval": 0
          },
          "base_uri": "https://localhost:8080/",
          "height": 119
        },
        "outputId": "307a55ec-b9b0-42f4-a86a-0f1b873d11d4",
        "executionInfo": {
          "status": "ok",
          "timestamp": 1533537653138,
          "user_tz": -180,
          "elapsed": 2053,
          "user": {
            "displayName": "Paulius Venclovas",
            "photoUrl": "https://lh3.googleusercontent.com/a/default-user=s128",
            "userId": "107160707492161856569"
          }
        }
      },
      "cell_type": "code",
      "source": [
        "|!git clone https://github.com/snowballstem/snowball"
      ],
      "execution_count": 2,
      "outputs": [
        {
          "output_type": "stream",
          "text": [
            "Cloning into 'snowball'...\n",
            "remote: Counting objects: 3399, done.\u001b[K\n",
            "remote: Compressing objects: 100% (49/49), done.\u001b[K\n",
            "remote: Total 3399 (delta 84), reused 121 (delta 83), pack-reused 3267\u001b[K\n",
            "Receiving objects: 100% (3399/3399), 911.03 KiB | 7.99 MiB/s, done.\n",
            "Resolving deltas: 100% (2159/2159), done.\n"
          ],
          "name": "stdout"
        }
      ]
    },
    {
      "metadata": {
        "id": "SGvzyKLN94kt",
        "colab_type": "code",
        "colab": {
          "autoexec": {
            "startup": false,
            "wait_interval": 0
          }
        }
      },
      "cell_type": "code",
      "source": [
        "import os\n",
        "import datetime\n",
        "import pymysql\n",
        "import time\n",
        "import pandas as pd\n",
        "import numpy as np\n",
        "import string\n",
        "import subprocess\n",
        "import urllib\n",
        "from tqdm import tqdm\n"
      ],
      "execution_count": 0,
      "outputs": []
    },
    {
      "metadata": {
        "id": "n4_-_MYL-eR2",
        "colab_type": "code",
        "colab": {
          "autoexec": {
            "startup": false,
            "wait_interval": 0
          },
          "base_uri": "https://localhost:8080/",
          "height": 102
        },
        "outputId": "982a5ba6-7f9f-4074-fba8-4355e9ce8fd7",
        "executionInfo": {
          "status": "ok",
          "timestamp": 1533537851636,
          "user_tz": -180,
          "elapsed": 1567,
          "user": {
            "displayName": "Paulius Venclovas",
            "photoUrl": "https://lh3.googleusercontent.com/a/default-user=s128",
            "userId": "107160707492161856569"
          }
        }
      },
      "cell_type": "code",
      "source": [
        "!ls"
      ],
      "execution_count": 12,
      "outputs": [
        {
          "output_type": "stream",
          "text": [
            "algorithms     COPYING\t    go\t\tlibstemmer    runtime\r\n",
            "algorithms.mk  csharp\t    iconv.py\tlibstemmer.o  rust\r\n",
            "AUTHORS        doc\t    include\tpascal\t      snowball\r\n",
            "charsets       examples     java\tpython\t      src_c\r\n",
            "compiler       GNUmakefile  javascript\tREADME\t      stemwords\r\n"
          ],
          "name": "stdout"
        }
      ]
    },
    {
      "metadata": {
        "id": "DEDwAcYt97Ih",
        "colab_type": "code",
        "colab": {
          "autoexec": {
            "startup": false,
            "wait_interval": 0
          }
        }
      },
      "cell_type": "code",
      "source": [
        "os.chdir('snowball')"
      ],
      "execution_count": 0,
      "outputs": []
    },
    {
      "metadata": {
        "id": "4AydvcpZ-hDB",
        "colab_type": "code",
        "colab": {
          "autoexec": {
            "startup": false,
            "wait_interval": 0
          },
          "base_uri": "https://localhost:8080/",
          "height": 2553
        },
        "outputId": "0601eecf-8c52-4f14-9e22-66f1808b7a34",
        "executionInfo": {
          "status": "ok",
          "timestamp": 1533537839503,
          "user_tz": -180,
          "elapsed": 12022,
          "user": {
            "displayName": "Paulius Venclovas",
            "photoUrl": "https://lh3.googleusercontent.com/a/default-user=s128",
            "userId": "107160707492161856569"
          }
        }
      },
      "cell_type": "code",
      "source": [
        "!make"
      ],
      "execution_count": 11,
      "outputs": [
        {
          "output_type": "stream",
          "text": [
            "cc -O2 -W -Wall -Wmissing-prototypes -Wmissing-declarations -Iinclude  -c -o compiler/space.o compiler/space.c\n",
            "cc -O2 -W -Wall -Wmissing-prototypes -Wmissing-declarations -Iinclude  -c -o compiler/tokeniser.o compiler/tokeniser.c\n",
            "cc -O2 -W -Wall -Wmissing-prototypes -Wmissing-declarations -Iinclude  -c -o compiler/analyser.o compiler/analyser.c\n",
            "cc -O2 -W -Wall -Wmissing-prototypes -Wmissing-declarations -Iinclude  -c -o compiler/generator.o compiler/generator.c\n",
            "cc -O2 -W -Wall -Wmissing-prototypes -Wmissing-declarations -Iinclude  -c -o compiler/driver.o compiler/driver.c\n",
            "cc -O2 -W -Wall -Wmissing-prototypes -Wmissing-declarations -Iinclude  -c -o compiler/generator_csharp.o compiler/generator_csharp.c\n",
            "cc -O2 -W -Wall -Wmissing-prototypes -Wmissing-declarations -Iinclude  -c -o compiler/generator_java.o compiler/generator_java.c\n",
            "cc -O2 -W -Wall -Wmissing-prototypes -Wmissing-declarations -Iinclude  -c -o compiler/generator_js.o compiler/generator_js.c\n",
            "cc -O2 -W -Wall -Wmissing-prototypes -Wmissing-declarations -Iinclude  -c -o compiler/generator_pascal.o compiler/generator_pascal.c\n",
            "cc -O2 -W -Wall -Wmissing-prototypes -Wmissing-declarations -Iinclude  -c -o compiler/generator_python.o compiler/generator_python.c\n",
            "cc -O2 -W -Wall -Wmissing-prototypes -Wmissing-declarations -Iinclude  -c -o compiler/generator_rust.o compiler/generator_rust.c\n",
            "cc -O2 -W -Wall -Wmissing-prototypes -Wmissing-declarations -Iinclude  -c -o compiler/generator_go.o compiler/generator_go.c\n",
            "cc -O2 -W -Wall -Wmissing-prototypes -Wmissing-declarations -o snowball compiler/space.o compiler/tokeniser.o compiler/analyser.o compiler/generator.o compiler/driver.o compiler/generator_csharp.o compiler/generator_java.o compiler/generator_js.o compiler/generator_pascal.o compiler/generator_python.o compiler/generator_rust.o compiler/generator_go.o\n",
            "sed 's/@MODULES_H@/modules.h/' libstemmer/libstemmer_c.in >libstemmer/libstemmer.c\n",
            "libstemmer/mkmodules.pl libstemmer/modules.h src_c libstemmer/modules.txt libstemmer/mkinc.mak\n",
            "./snowball algorithms/arabic.sbl -o src_c/stem_UTF_8_arabic -eprefix arabic_UTF_8_ -r ../runtime -u\n",
            "22 blocks unfreed\n",
            "./snowball algorithms/danish.sbl -o src_c/stem_UTF_8_danish -eprefix danish_UTF_8_ -r ../runtime -u\n",
            "3 blocks unfreed\n",
            "./snowball algorithms/dutch.sbl -o src_c/stem_UTF_8_dutch -eprefix dutch_UTF_8_ -r ../runtime -u\n",
            "6 blocks unfreed\n",
            "./snowball algorithms/english.sbl -o src_c/stem_UTF_8_english -eprefix english_UTF_8_ -r ../runtime -u\n",
            "11 blocks unfreed\n",
            "./snowball algorithms/finnish.sbl -o src_c/stem_UTF_8_finnish -eprefix finnish_UTF_8_ -r ../runtime -u\n",
            "10 blocks unfreed\n",
            "./snowball algorithms/french.sbl -o src_c/stem_UTF_8_french -eprefix french_UTF_8_ -r ../runtime -u\n",
            "9 blocks unfreed\n",
            "./snowball algorithms/german.sbl -o src_c/stem_UTF_8_german -eprefix german_UTF_8_ -r ../runtime -u\n",
            "5 blocks unfreed\n",
            "./snowball algorithms/hungarian.sbl -o src_c/stem_UTF_8_hungarian -eprefix hungarian_UTF_8_ -r ../runtime -u\n",
            "12 blocks unfreed\n",
            "./snowball algorithms/indonesian.sbl -o src_c/stem_UTF_8_indonesian -eprefix indonesian_UTF_8_ -r ../runtime -u\n",
            "5 blocks unfreed\n",
            "./snowball algorithms/irish.sbl -o src_c/stem_UTF_8_irish -eprefix irish_UTF_8_ -r ../runtime -u\n",
            "4 blocks unfreed\n",
            "./snowball algorithms/italian.sbl -o src_c/stem_UTF_8_italian -eprefix italian_UTF_8_ -r ../runtime -u\n",
            "8 blocks unfreed\n",
            "./snowball algorithms/lithuanian.sbl -o src_c/stem_UTF_8_lithuanian -eprefix lithuanian_UTF_8_ -r ../runtime -u\n",
            "5 blocks unfreed\n",
            "./snowball algorithms/nepali.sbl -o src_c/stem_UTF_8_nepali -eprefix nepali_UTF_8_ -r ../runtime -u\n",
            "4 blocks unfreed\n",
            "./snowball algorithms/norwegian.sbl -o src_c/stem_UTF_8_norwegian -eprefix norwegian_UTF_8_ -r ../runtime -u\n",
            "3 blocks unfreed\n",
            "./snowball algorithms/porter.sbl -o src_c/stem_UTF_8_porter -eprefix porter_UTF_8_ -r ../runtime -u\n",
            "6 blocks unfreed\n",
            "./snowball algorithms/portuguese.sbl -o src_c/stem_UTF_8_portuguese -eprefix portuguese_UTF_8_ -r ../runtime -u\n",
            "9 blocks unfreed\n",
            "./snowball algorithms/romanian.sbl -o src_c/stem_UTF_8_romanian -eprefix romanian_UTF_8_ -r ../runtime -u\n",
            "6 blocks unfreed\n",
            "./snowball algorithms/russian.sbl -o src_c/stem_UTF_8_russian -eprefix russian_UTF_8_ -r ../runtime -u\n",
            "8 blocks unfreed\n",
            "./snowball algorithms/spanish.sbl -o src_c/stem_UTF_8_spanish -eprefix spanish_UTF_8_ -r ../runtime -u\n",
            "10 blocks unfreed\n",
            "./snowball algorithms/swedish.sbl -o src_c/stem_UTF_8_swedish -eprefix swedish_UTF_8_ -r ../runtime -u\n",
            "3 blocks unfreed\n",
            "./snowball algorithms/tamil.sbl -o src_c/stem_UTF_8_tamil -eprefix tamil_UTF_8_ -r ../runtime -u\n",
            "26 blocks unfreed\n",
            "./snowball algorithms/turkish.sbl -o src_c/stem_UTF_8_turkish -eprefix turkish_UTF_8_ -r ../runtime -u\n",
            "24 blocks unfreed\n",
            "./snowball charsets/KOI8-R.sbl algorithms/russian.sbl -o src_c/stem_KOI8_R_russian -eprefix russian_KOI8_R_ -r ../runtime\n",
            "8 blocks unfreed\n",
            "./snowball algorithms/danish.sbl -o src_c/stem_ISO_8859_1_danish -eprefix danish_ISO_8859_1_ -r ../runtime\n",
            "3 blocks unfreed\n",
            "./snowball algorithms/dutch.sbl -o src_c/stem_ISO_8859_1_dutch -eprefix dutch_ISO_8859_1_ -r ../runtime\n",
            "6 blocks unfreed\n",
            "./snowball algorithms/english.sbl -o src_c/stem_ISO_8859_1_english -eprefix english_ISO_8859_1_ -r ../runtime\n",
            "11 blocks unfreed\n",
            "./snowball algorithms/finnish.sbl -o src_c/stem_ISO_8859_1_finnish -eprefix finnish_ISO_8859_1_ -r ../runtime\n",
            "10 blocks unfreed\n",
            "./snowball algorithms/french.sbl -o src_c/stem_ISO_8859_1_french -eprefix french_ISO_8859_1_ -r ../runtime\n",
            "9 blocks unfreed\n",
            "./snowball algorithms/german.sbl -o src_c/stem_ISO_8859_1_german -eprefix german_ISO_8859_1_ -r ../runtime\n",
            "5 blocks unfreed\n",
            "./snowball algorithms/indonesian.sbl -o src_c/stem_ISO_8859_1_indonesian -eprefix indonesian_ISO_8859_1_ -r ../runtime\n",
            "5 blocks unfreed\n",
            "./snowball algorithms/irish.sbl -o src_c/stem_ISO_8859_1_irish -eprefix irish_ISO_8859_1_ -r ../runtime\n",
            "4 blocks unfreed\n",
            "./snowball algorithms/italian.sbl -o src_c/stem_ISO_8859_1_italian -eprefix italian_ISO_8859_1_ -r ../runtime\n",
            "8 blocks unfreed\n",
            "./snowball algorithms/norwegian.sbl -o src_c/stem_ISO_8859_1_norwegian -eprefix norwegian_ISO_8859_1_ -r ../runtime\n",
            "3 blocks unfreed\n",
            "./snowball algorithms/porter.sbl -o src_c/stem_ISO_8859_1_porter -eprefix porter_ISO_8859_1_ -r ../runtime\n",
            "6 blocks unfreed\n",
            "./snowball algorithms/portuguese.sbl -o src_c/stem_ISO_8859_1_portuguese -eprefix portuguese_ISO_8859_1_ -r ../runtime\n",
            "9 blocks unfreed\n",
            "./snowball algorithms/spanish.sbl -o src_c/stem_ISO_8859_1_spanish -eprefix spanish_ISO_8859_1_ -r ../runtime\n",
            "10 blocks unfreed\n",
            "./snowball algorithms/swedish.sbl -o src_c/stem_ISO_8859_1_swedish -eprefix swedish_ISO_8859_1_ -r ../runtime\n",
            "3 blocks unfreed\n",
            "./snowball charsets/ISO-8859-2.sbl algorithms/hungarian.sbl -o src_c/stem_ISO_8859_2_hungarian -eprefix hungarian_ISO_8859_2_ -r ../runtime\n",
            "12 blocks unfreed\n",
            "./snowball charsets/ISO-8859-2.sbl algorithms/romanian.sbl -o src_c/stem_ISO_8859_2_romanian -eprefix romanian_ISO_8859_2_ -r ../runtime\n",
            "6 blocks unfreed\n",
            "cc -O2 -W -Wall -Wmissing-prototypes -Wmissing-declarations -Iinclude  -c -o libstemmer/libstemmer.o libstemmer/libstemmer.c\n",
            "cc -O2 -W -Wall -Wmissing-prototypes -Wmissing-declarations -Iinclude  -c -o runtime/api.o runtime/api.c\n",
            "cc -O2 -W -Wall -Wmissing-prototypes -Wmissing-declarations -Iinclude  -c -o runtime/utilities.o runtime/utilities.c\n"
          ],
          "name": "stdout"
        },
        {
          "output_type": "stream",
          "text": [
            "cc -O2 -W -Wall -Wmissing-prototypes -Wmissing-declarations -Iinclude -c -o src_c/stem_UTF_8_arabic.o src_c/stem_UTF_8_arabic.c\n",
            "cc -O2 -W -Wall -Wmissing-prototypes -Wmissing-declarations -Iinclude -c -o src_c/stem_UTF_8_danish.o src_c/stem_UTF_8_danish.c\n",
            "cc -O2 -W -Wall -Wmissing-prototypes -Wmissing-declarations -Iinclude -c -o src_c/stem_UTF_8_dutch.o src_c/stem_UTF_8_dutch.c\n",
            "cc -O2 -W -Wall -Wmissing-prototypes -Wmissing-declarations -Iinclude -c -o src_c/stem_UTF_8_english.o src_c/stem_UTF_8_english.c\n",
            "cc -O2 -W -Wall -Wmissing-prototypes -Wmissing-declarations -Iinclude -c -o src_c/stem_UTF_8_finnish.o src_c/stem_UTF_8_finnish.c\n",
            "cc -O2 -W -Wall -Wmissing-prototypes -Wmissing-declarations -Iinclude -c -o src_c/stem_UTF_8_french.o src_c/stem_UTF_8_french.c\n",
            "cc -O2 -W -Wall -Wmissing-prototypes -Wmissing-declarations -Iinclude -c -o src_c/stem_UTF_8_german.o src_c/stem_UTF_8_german.c\n",
            "cc -O2 -W -Wall -Wmissing-prototypes -Wmissing-declarations -Iinclude -c -o src_c/stem_UTF_8_hungarian.o src_c/stem_UTF_8_hungarian.c\n",
            "cc -O2 -W -Wall -Wmissing-prototypes -Wmissing-declarations -Iinclude -c -o src_c/stem_UTF_8_indonesian.o src_c/stem_UTF_8_indonesian.c\n",
            "cc -O2 -W -Wall -Wmissing-prototypes -Wmissing-declarations -Iinclude -c -o src_c/stem_UTF_8_irish.o src_c/stem_UTF_8_irish.c\n",
            "cc -O2 -W -Wall -Wmissing-prototypes -Wmissing-declarations -Iinclude -c -o src_c/stem_UTF_8_italian.o src_c/stem_UTF_8_italian.c\n",
            "cc -O2 -W -Wall -Wmissing-prototypes -Wmissing-declarations -Iinclude -c -o src_c/stem_UTF_8_lithuanian.o src_c/stem_UTF_8_lithuanian.c\n",
            "cc -O2 -W -Wall -Wmissing-prototypes -Wmissing-declarations -Iinclude -c -o src_c/stem_UTF_8_nepali.o src_c/stem_UTF_8_nepali.c\n",
            "cc -O2 -W -Wall -Wmissing-prototypes -Wmissing-declarations -Iinclude -c -o src_c/stem_UTF_8_norwegian.o src_c/stem_UTF_8_norwegian.c\n",
            "cc -O2 -W -Wall -Wmissing-prototypes -Wmissing-declarations -Iinclude -c -o src_c/stem_UTF_8_porter.o src_c/stem_UTF_8_porter.c\n",
            "cc -O2 -W -Wall -Wmissing-prototypes -Wmissing-declarations -Iinclude -c -o src_c/stem_UTF_8_portuguese.o src_c/stem_UTF_8_portuguese.c\n",
            "cc -O2 -W -Wall -Wmissing-prototypes -Wmissing-declarations -Iinclude -c -o src_c/stem_UTF_8_romanian.o src_c/stem_UTF_8_romanian.c\n",
            "cc -O2 -W -Wall -Wmissing-prototypes -Wmissing-declarations -Iinclude -c -o src_c/stem_UTF_8_russian.o src_c/stem_UTF_8_russian.c\n",
            "cc -O2 -W -Wall -Wmissing-prototypes -Wmissing-declarations -Iinclude -c -o src_c/stem_UTF_8_spanish.o src_c/stem_UTF_8_spanish.c\n",
            "cc -O2 -W -Wall -Wmissing-prototypes -Wmissing-declarations -Iinclude -c -o src_c/stem_UTF_8_swedish.o src_c/stem_UTF_8_swedish.c\n",
            "cc -O2 -W -Wall -Wmissing-prototypes -Wmissing-declarations -Iinclude -c -o src_c/stem_UTF_8_tamil.o src_c/stem_UTF_8_tamil.c\n",
            "cc -O2 -W -Wall -Wmissing-prototypes -Wmissing-declarations -Iinclude -c -o src_c/stem_UTF_8_turkish.o src_c/stem_UTF_8_turkish.c\n",
            "cc -O2 -W -Wall -Wmissing-prototypes -Wmissing-declarations -Iinclude -c -o src_c/stem_KOI8_R_russian.o src_c/stem_KOI8_R_russian.c\n",
            "cc -O2 -W -Wall -Wmissing-prototypes -Wmissing-declarations -Iinclude -c -o src_c/stem_ISO_8859_1_danish.o src_c/stem_ISO_8859_1_danish.c\n",
            "cc -O2 -W -Wall -Wmissing-prototypes -Wmissing-declarations -Iinclude -c -o src_c/stem_ISO_8859_1_dutch.o src_c/stem_ISO_8859_1_dutch.c\n",
            "cc -O2 -W -Wall -Wmissing-prototypes -Wmissing-declarations -Iinclude -c -o src_c/stem_ISO_8859_1_english.o src_c/stem_ISO_8859_1_english.c\n",
            "cc -O2 -W -Wall -Wmissing-prototypes -Wmissing-declarations -Iinclude -c -o src_c/stem_ISO_8859_1_finnish.o src_c/stem_ISO_8859_1_finnish.c\n",
            "cc -O2 -W -Wall -Wmissing-prototypes -Wmissing-declarations -Iinclude -c -o src_c/stem_ISO_8859_1_french.o src_c/stem_ISO_8859_1_french.c\n",
            "cc -O2 -W -Wall -Wmissing-prototypes -Wmissing-declarations -Iinclude -c -o src_c/stem_ISO_8859_1_german.o src_c/stem_ISO_8859_1_german.c\n",
            "cc -O2 -W -Wall -Wmissing-prototypes -Wmissing-declarations -Iinclude -c -o src_c/stem_ISO_8859_1_indonesian.o src_c/stem_ISO_8859_1_indonesian.c\n",
            "cc -O2 -W -Wall -Wmissing-prototypes -Wmissing-declarations -Iinclude -c -o src_c/stem_ISO_8859_1_irish.o src_c/stem_ISO_8859_1_irish.c\n",
            "cc -O2 -W -Wall -Wmissing-prototypes -Wmissing-declarations -Iinclude -c -o src_c/stem_ISO_8859_1_italian.o src_c/stem_ISO_8859_1_italian.c\n",
            "cc -O2 -W -Wall -Wmissing-prototypes -Wmissing-declarations -Iinclude -c -o src_c/stem_ISO_8859_1_norwegian.o src_c/stem_ISO_8859_1_norwegian.c\n",
            "cc -O2 -W -Wall -Wmissing-prototypes -Wmissing-declarations -Iinclude -c -o src_c/stem_ISO_8859_1_porter.o src_c/stem_ISO_8859_1_porter.c\n",
            "cc -O2 -W -Wall -Wmissing-prototypes -Wmissing-declarations -Iinclude -c -o src_c/stem_ISO_8859_1_portuguese.o src_c/stem_ISO_8859_1_portuguese.c\n",
            "cc -O2 -W -Wall -Wmissing-prototypes -Wmissing-declarations -Iinclude -c -o src_c/stem_ISO_8859_1_spanish.o src_c/stem_ISO_8859_1_spanish.c\n",
            "cc -O2 -W -Wall -Wmissing-prototypes -Wmissing-declarations -Iinclude -c -o src_c/stem_ISO_8859_1_swedish.o src_c/stem_ISO_8859_1_swedish.c\n",
            "cc -O2 -W -Wall -Wmissing-prototypes -Wmissing-declarations -Iinclude -c -o src_c/stem_ISO_8859_2_hungarian.o src_c/stem_ISO_8859_2_hungarian.c\n"
          ],
          "name": "stdout"
        },
        {
          "output_type": "stream",
          "text": [
            "cc -O2 -W -Wall -Wmissing-prototypes -Wmissing-declarations -Iinclude -c -o src_c/stem_ISO_8859_2_romanian.o src_c/stem_ISO_8859_2_romanian.c\n",
            "ar -cru libstemmer.o libstemmer/libstemmer.o runtime/api.o runtime/utilities.o src_c/stem_UTF_8_arabic.o src_c/stem_UTF_8_danish.o src_c/stem_UTF_8_dutch.o src_c/stem_UTF_8_english.o src_c/stem_UTF_8_finnish.o src_c/stem_UTF_8_french.o src_c/stem_UTF_8_german.o src_c/stem_UTF_8_hungarian.o src_c/stem_UTF_8_indonesian.o src_c/stem_UTF_8_irish.o src_c/stem_UTF_8_italian.o src_c/stem_UTF_8_lithuanian.o src_c/stem_UTF_8_nepali.o src_c/stem_UTF_8_norwegian.o src_c/stem_UTF_8_porter.o src_c/stem_UTF_8_portuguese.o src_c/stem_UTF_8_romanian.o src_c/stem_UTF_8_russian.o src_c/stem_UTF_8_spanish.o src_c/stem_UTF_8_swedish.o src_c/stem_UTF_8_tamil.o src_c/stem_UTF_8_turkish.o src_c/stem_KOI8_R_russian.o src_c/stem_ISO_8859_1_danish.o src_c/stem_ISO_8859_1_dutch.o src_c/stem_ISO_8859_1_english.o src_c/stem_ISO_8859_1_finnish.o src_c/stem_ISO_8859_1_french.o src_c/stem_ISO_8859_1_german.o src_c/stem_ISO_8859_1_indonesian.o src_c/stem_ISO_8859_1_irish.o src_c/stem_ISO_8859_1_italian.o src_c/stem_ISO_8859_1_norwegian.o src_c/stem_ISO_8859_1_porter.o src_c/stem_ISO_8859_1_portuguese.o src_c/stem_ISO_8859_1_spanish.o src_c/stem_ISO_8859_1_swedish.o src_c/stem_ISO_8859_2_hungarian.o src_c/stem_ISO_8859_2_romanian.o\n",
            "ar: `u' modifier ignored since `D' is the default (see `U')\n",
            "cc -O2 -W -Wall -Wmissing-prototypes -Wmissing-declarations -Iinclude  -c -o examples/stemwords.o examples/stemwords.c\n",
            "cc -O2 -W -Wall -Wmissing-prototypes -Wmissing-declarations -o stemwords examples/stemwords.o libstemmer.o\n",
            "./snowball algorithms/german2.sbl -o src_c/stem_UTF_8_german2 -eprefix german2_UTF_8_ -r ../runtime -u\n",
            "6 blocks unfreed\n",
            "./snowball algorithms/kraaij_pohlmann.sbl -o src_c/stem_UTF_8_kraaij_pohlmann -eprefix kraaij_pohlmann_UTF_8_ -r ../runtime -u\n",
            "8 blocks unfreed\n",
            "./snowball algorithms/lovins.sbl -o src_c/stem_UTF_8_lovins -eprefix lovins_UTF_8_ -r ../runtime -u\n",
            "4 blocks unfreed\n",
            "cc -O2 -W -Wall -Wmissing-prototypes -Wmissing-declarations -Iinclude -c -o src_c/stem_UTF_8_german2.o src_c/stem_UTF_8_german2.c\n",
            "cc -O2 -W -Wall -Wmissing-prototypes -Wmissing-declarations -Iinclude -c -o src_c/stem_UTF_8_kraaij_pohlmann.o src_c/stem_UTF_8_kraaij_pohlmann.c\n",
            "cc -O2 -W -Wall -Wmissing-prototypes -Wmissing-declarations -Iinclude -c -o src_c/stem_UTF_8_lovins.o src_c/stem_UTF_8_lovins.c\n"
          ],
          "name": "stdout"
        }
      ]
    },
    {
      "metadata": {
        "id": "X6oYfaTNA_y4",
        "colab_type": "code",
        "colab": {
          "autoexec": {
            "startup": false,
            "wait_interval": 0
          }
        }
      },
      "cell_type": "code",
      "source": [
        "def join_name_description(row):\n",
        "    try:\n",
        "        return ' '.join([row[4],row[2]])\n",
        "    except:\n",
        "        return np.nan\n",
        "      \n",
        "def full_text_processing(full_text):\n",
        "    try:\n",
        "        words = full_text.split()\n",
        "    except:\n",
        "        return np.nan\n",
        "    # remove punctuation from each word\n",
        "    table = str.maketrans('','', string.punctuation)\n",
        "    table2 = str.maketrans('', '', string.digits)\n",
        "    stripped = [w.translate(table) for w in words]\n",
        "    stripped2 = [w.translate(table2) for w in stripped]\n",
        "    stripped3 = [w.replace('„','').replace('”','').replace('“','') for w in stripped2 if w != '–']\n",
        "    text_only_words = [x for x in stripped3 if x]\n",
        "    cleaned_text = [y for y in text_only_words if y not in stop_words]\n",
        "    thefile = open('test_lt.txt', 'w')\n",
        "    for item in cleaned_text:\n",
        "        thefile.write(\"%s\\n\" % item)\n",
        "    thefile.close()\n",
        "    args = (\"./stemwords\", \"-l\", \"lt\", \"-i\", \"test_lt.txt\", \"-o\", \"out_lt.txt\")\n",
        "    popen = subprocess.Popen(args, stdout=subprocess.PIPE)\n",
        "    popen.wait()\n",
        "    with open('out_lt.txt') as f:\n",
        "        lst = f.readlines()\n",
        "        lst_cl = [x.rstrip() for x in lst]\n",
        "    f.close()\n",
        "    return cleaned_text, lst_cl\n",
        "  \n",
        "def using_stemmed_dictionary(full_text, dic):\n",
        "    words = full_text.split()\n",
        "    table = str.maketrans('','', string.punctuation)\n",
        "    table2 = str.maketrans('', '', string.digits)\n",
        "    stripped = [w.translate(table) for w in words]\n",
        "    stripped2 = [w.translate(table2) for w in stripped]\n",
        "    stripped3 = [w.replace('„','').replace('”','').replace('“','') for w in stripped2 if w != '–']\n",
        "    text_only_words = [x for x in stripped3 if x]\n",
        "    cleaned_text = [y for y in text_only_words if y not in stop_words]\n",
        "    return [dic[x] for x in cleaned_text]"
      ],
      "execution_count": 0,
      "outputs": []
    },
    {
      "metadata": {
        "id": "eslV5U_0-jo_",
        "colab_type": "code",
        "colab": {
          "autoexec": {
            "startup": false,
            "wait_interval": 0
          }
        }
      },
      "cell_type": "code",
      "source": [
        "data = urllib.request.urlopen('https://gist.githubusercontent.com/revelt/01524e76c6e5e0970d2d0fe8797e92ed/raw/48258f1b1055f62d4ef7ed51fc0411aa94358091/Lithuanian%2520stop%2520words')# it's a file like object and works just like a file\n",
        "stop_words = [line.decode('utf-8')[:-1] for line in data]\n",
        "stop_words.append('iš')\n",
        "#knygu aprasymuose daznai minimas zodis knyga neteikia konsteksto\n",
        "stop_words.append('knyga')"
      ],
      "execution_count": 0,
      "outputs": []
    },
    {
      "metadata": {
        "id": "m_GVTGwL-3ar",
        "colab_type": "code",
        "colab": {
          "autoexec": {
            "startup": false,
            "wait_interval": 0
          }
        }
      },
      "cell_type": "code",
      "source": [
        "tqdm.pandas()"
      ],
      "execution_count": 0,
      "outputs": []
    },
    {
      "metadata": {
        "id": "i03HXF6Q-3YR",
        "colab_type": "code",
        "colab": {
          "autoexec": {
            "startup": false,
            "wait_interval": 0
          }
        }
      },
      "cell_type": "code",
      "source": [
        "#item_frame - padnas dataframe created from database with book title and description \n"
      ],
      "execution_count": 0,
      "outputs": []
    },
    {
      "metadata": {
        "id": "aq2mEBuR_dXg",
        "colab_type": "code",
        "colab": {
          "autoexec": {
            "startup": false,
            "wait_interval": 0
          }
        }
      },
      "cell_type": "code",
      "source": [
        "item_frame['full_text'] = item_frame.apply(join_name_description, axis = 1)\n",
        "item_frame = item_frame[item_frame['full_text'].apply(lambda x: type(x)==str)]"
      ],
      "execution_count": 0,
      "outputs": []
    },
    {
      "metadata": {
        "id": "JKCfW1ok_27F",
        "colab_type": "code",
        "colab": {
          "autoexec": {
            "startup": false,
            "wait_interval": 0
          }
        }
      },
      "cell_type": "code",
      "source": [
        "books = ' '.join(item_frame.full_text.values)"
      ],
      "execution_count": 0,
      "outputs": []
    },
    {
      "metadata": {
        "id": "2gM7MZUB_33E",
        "colab_type": "code",
        "colab": {
          "autoexec": {
            "startup": false,
            "wait_interval": 0
          }
        }
      },
      "cell_type": "code",
      "source": [
        "original, cleaned = full_text_processing(books)\n",
        "dictionary = dict(zip(original, cleaned))"
      ],
      "execution_count": 0,
      "outputs": []
    },
    {
      "metadata": {
        "id": "gKIECnRzAoc0",
        "colab_type": "code",
        "colab": {
          "autoexec": {
            "startup": false,
            "wait_interval": 0
          },
          "base_uri": "https://localhost:8080/",
          "height": 34
        },
        "outputId": "0465a099-2645-4509-835c-a9cab59c5787",
        "executionInfo": {
          "status": "ok",
          "timestamp": 1533538427446,
          "user_tz": -180,
          "elapsed": 48143,
          "user": {
            "displayName": "Paulius Venclovas",
            "photoUrl": "https://lh3.googleusercontent.com/a/default-user=s128",
            "userId": "107160707492161856569"
          }
        }
      },
      "cell_type": "code",
      "source": [
        "item_frame['cleaned_text'] = item_frame.full_text.progress_apply(lambda x : using_stemmed_dictionary(x,dictionary))"
      ],
      "execution_count": 19,
      "outputs": [
        {
          "output_type": "stream",
          "text": [
            "100%|██████████| 62184/62184 [00:46<00:00, 1332.74it/s]\n"
          ],
          "name": "stderr"
        }
      ]
    }
  ]
}